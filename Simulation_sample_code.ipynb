{
 "cells": [
  {
   "cell_type": "code",
   "execution_count": null,
   "id": "f697d8b8",
   "metadata": {},
   "outputs": [],
   "source": [
    "from pymatgen.io.openmm.generators import OpenMMSolutionGen\n",
    "from pymatgen.io.openmm.sets import OpenMMSet\n",
    "from pymatgen.io.openmm.simulations import equilibrate_pressure, anneal\n",
    "\n",
    "from openmm.app import StateDataReporter, DCDReporter, PDBReporter\n",
    "from sys import stdout\n"
   ]
  },
  {
   "cell_type": "markdown",
   "id": "938f99a2",
   "metadata": {},
   "source": [
    "## Generators\n"
   ]
  },
  {
   "cell_type": "code",
   "execution_count": null,
   "id": "d3cf73d4",
   "metadata": {},
   "outputs": [],
   "source": [
    "# input sets contain all of the files needed to run a simulation!\n",
    "# it just writes and reads input files\n",
    "\n",
    "# generator makes input sets!\n",
    "# specified settings, but no molecules!\n"
   ]
  },
  {
   "cell_type": "code",
   "execution_count": null,
   "id": "c829488f",
   "metadata": {},
   "outputs": [],
   "source": [
    "openmm_generator = OpenMMSolutionGen(\n",
    "    force_field = \"Sage\",\n",
    "    temperature = 298,\n",
    "    step_size = 0.001,\n",
    "    partial_charge_method = \"mmff94\",\n",
    "    packmol_timeout = 500 )\n"
   ]
  },
  {
   "cell_type": "markdown",
   "id": "102854e3",
   "metadata": {},
   "source": [
    "## Input Set"
   ]
  },
  {
   "cell_type": "code",
   "execution_count": null,
   "id": "33c4dbd5",
   "metadata": {
    "scrolled": true
   },
   "outputs": [],
   "source": [
    "trimer_smile = \"MOLECULE SMILES\"\n",
    "molecules = {\"O\": 3640,\"[Cl-]\":560, \"[OH3+]\": 360, trimer_smile: 50}\n",
    "\n",
    "input_set = openmm_generator.get_input_set(molecules, density = 0.8)\n"
   ]
  },
  {
   "cell_type": "code",
   "execution_count": null,
   "id": "c9cc2f36",
   "metadata": {},
   "outputs": [],
   "source": [
    "input_set.write_input(f\"input1\")"
   ]
  },
  {
   "cell_type": "code",
   "execution_count": null,
   "id": "dc7e9619",
   "metadata": {},
   "outputs": [],
   "source": [
    "input_set = OpenMMSet.from_directory(\"input1\")"
   ]
  },
  {
   "cell_type": "markdown",
   "id": "d22798b1",
   "metadata": {},
   "source": [
    "## Simulation"
   ]
  },
  {
   "cell_type": "code",
   "execution_count": null,
   "id": "30d948be",
   "metadata": {},
   "outputs": [],
   "source": [
    "simulation = input_set.get_simulation()"
   ]
  },
  {
   "cell_type": "code",
   "execution_count": null,
   "id": "7d3a69ef",
   "metadata": {},
   "outputs": [],
   "source": [
    "!mkdir output1\n",
    "\n",
    "pdb_reporter = PDBReporter(\"output1/topology.pdb\",1)\n",
    "pdb_reporter.report(simulation, simulation.context.getState(getPositions=True))\n",
    "\n",
    "n_timesteps = 1000\n",
    "simulation.reporters.append(StateDataReporter(\"output1/state.txt\", n_timesteps, step=True, potentialEnergy=True, temperature=True, volume=True, density=True))\n",
    "simulation.reporters.append(DCDReporter(f\"output1/trajectory.dcd\", n_timesteps))\n"
   ]
  },
  {
   "cell_type": "code",
   "execution_count": null,
   "id": "f0160809",
   "metadata": {},
   "outputs": [],
   "source": [
    "simulation.minimizeEnergy()\n",
    "equilibrate_pressure(simulation, 10000)\n",
    "anneal(simulation, 400, [1000, 1000, 1000])  \n",
    "simulation.step(50000)"
   ]
  },
  {
   "cell_type": "code",
   "execution_count": null,
   "id": "fad93f5c",
   "metadata": {},
   "outputs": [],
   "source": []
  },
  {
   "cell_type": "code",
   "execution_count": null,
   "id": "e1c2011b",
   "metadata": {},
   "outputs": [],
   "source": []
  }
 ],
 "metadata": {
  "kernelspec": {
   "display_name": "openmm",
   "language": "python",
   "name": "openmm"
  },
  "language_info": {
   "codemirror_mode": {
    "name": "ipython",
    "version": 3
   },
   "file_extension": ".py",
   "mimetype": "text/x-python",
   "name": "python",
   "nbconvert_exporter": "python",
   "pygments_lexer": "ipython3",
   "version": "3.9.13"
  }
 },
 "nbformat": 4,
 "nbformat_minor": 5
}
