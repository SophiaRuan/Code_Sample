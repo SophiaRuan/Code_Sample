{
 "cells": [
  {
   "cell_type": "code",
   "execution_count": 1,
   "id": "46541d9c",
   "metadata": {},
   "outputs": [],
   "source": [
    "#https://docs.mdanalysis.org/stable/documentation_pages/analysis/msd.html\n",
    "import MDAnalysis as mda\n",
    "import MDAnalysis.analysis.msd as msd\n",
    "import matplotlib.pyplot as plt\n",
    "\n",
    "import numpy as np\n",
    "from scipy.stats import linregress\n",
    "from sklearn.utils import resample\n",
    "import statistics\n",
    "from statistics import sqrt, stdev"
   ]
  },
  {
   "cell_type": "code",
   "execution_count": 2,
   "id": "4f474038",
   "metadata": {},
   "outputs": [
    {
     "name": "stderr",
     "output_type": "stream",
     "text": [
      "Warning: importing 'simtk.openmm' is deprecated.  Import 'openmm' instead.\n"
     ]
    }
   ],
   "source": [
    "# The trajectory need to be in unwrapped mode\n",
    "u1 = mda.Universe('output1/topology.pdb',\"output1/trajectory_unwrap.dcd\")"
   ]
  },
  {
   "cell_type": "markdown",
   "id": "8bdc6f34",
   "metadata": {},
   "source": [
    "## MSD "
   ]
  },
  {
   "cell_type": "code",
   "execution_count": 3,
   "id": "9841a7f7",
   "metadata": {},
   "outputs": [
    {
     "data": {
      "text/plain": [
       "<MDAnalysis.analysis.msd.EinsteinMSD at 0x1420fd6a0>"
      ]
     },
     "execution_count": 3,
     "metadata": {},
     "output_type": "execute_result"
    }
   ],
   "source": [
    "# MSD of water\n",
    "MSD1 = msd.EinsteinMSD(u1, select='byres (smarts [OH2])', msd_type='xyz', fft=True)\n",
    "MSD1.run(step =5)"
   ]
  },
  {
   "cell_type": "code",
   "execution_count": 4,
   "id": "4e1f4388",
   "metadata": {},
   "outputs": [],
   "source": [
    "msd1 =  MSD1.results.timeseries"
   ]
  },
  {
   "cell_type": "code",
   "execution_count": 5,
   "id": "431ac7b4",
   "metadata": {},
   "outputs": [
    {
     "data": {
      "image/png": "[encoded data removed]",
      "text/plain": [
       "<Figure size 432x288 with 1 Axes>"
      ]
     },
     "metadata": {
      "needs_background": "light"
     },
     "output_type": "display_data"
    }
   ],
   "source": [
    "import matplotlib.pyplot as plt\n",
    "nframes1 = MSD1.n_frames\n",
    "timestep = 1 # this needs to be the actual time between frames\n",
    "lagtimes1 = np.arange(nframes1)*timestep # make the lag-time axis\n",
    "fig = plt.figure()\n",
    "ax = plt.axes()\n",
    "# plot the actual MSD\n",
    "ax.plot(lagtimes1, msd1, 'b-', label=r'HCl')\n",
    "ax.legend()\n",
    "ax.set_title('MSD of H2O')\n",
    "plt.show() "
   ]
  },
  {
   "cell_type": "markdown",
   "id": "6c951d05",
   "metadata": {},
   "source": [
    "### Diffusion Coefficient + Statistical Analysis"
   ]
  },
  {
   "cell_type": "markdown",
   "id": "bfe5fa90",
   "metadata": {},
   "source": [
    "### Define functions"
   ]
  },
  {
   "cell_type": "markdown",
   "id": "72dc09f9",
   "metadata": {},
   "source": [
    "#### 1. block_average method\n",
    "select the right block size for subsampling"
   ]
  },
  {
   "cell_type": "code",
   "execution_count": 6,
   "id": "d101abf4",
   "metadata": {},
   "outputs": [],
   "source": [
    "def block_averaging(data, minBlockLen, maxBlockLen, step = 1):\n",
    "    frame = len(data) # total frames in the trajectory\n",
    "    numBlocks = maxBlockLen - minBlockLen # total number of block lengths\n",
    "    blockMean = [] # container for block mean\n",
    "    blockSVar = [] # container for block variance\n",
    "    \n",
    "    for blen in range(minBlockLen, maxBlockLen, step): \n",
    "        Nblock = frame // blen  # number of blocks for (block length = blen)\n",
    "        Nmean = np.zeros(Nblock) # container means for each block when (block length = blen)\n",
    "        for i in range(Nblock):\n",
    "            begin = i * blen \n",
    "            end = begin + blen \n",
    "            Nmean[i] = np.mean(data[begin: end])\n",
    "            \n",
    "        blockMean.append(np.mean(data)) # get mean for each block length\n",
    "        blockSVar.append(np.sqrt(np.var(Nmean)/(Nblock-1)))\n",
    "        \n",
    "# Plot error bar        \n",
    "    x = np.arange(minBlockLen, maxBlockLen, step)\n",
    "    plt.plot(x,blockMean)\n",
    "    plt.errorbar(x,blockMean, blockSVar)\n",
    "    print(blockMean[0])"
   ]
  },
  {
   "cell_type": "markdown",
   "id": "c7dcd95b",
   "metadata": {},
   "source": [
    "#### 2. bootstrap the MSD (with the right sample size) and calculate the D"
   ]
  },
  {
   "cell_type": "code",
   "execution_count": 7,
   "id": "db08e237",
   "metadata": {},
   "outputs": [],
   "source": [
    "def boot_D(data,x, y,n_sample):\n",
    "    D = []\n",
    "    for i in range(1000): # repeat 1000 times bootstrapping\n",
    "        sample = resample(data, replace=True, n_samples = 100)\n",
    "        s = sample.sort_values(x)\n",
    "        slope = (s[y].iloc[-1]-s[y].iloc[0])/(s[x].iloc[-1]-s[x].iloc[0])\n",
    "        d = slope*1/(2*3) # dim_fac\n",
    "        D.append(d)          \n",
    "    return D"
   ]
  },
  {
   "cell_type": "markdown",
   "id": "e4b39736",
   "metadata": {},
   "source": [
    "#### 3. plot confidence interval"
   ]
  },
  {
   "cell_type": "code",
   "execution_count": 8,
   "id": "b8350646",
   "metadata": {},
   "outputs": [],
   "source": [
    "def plot_confidence_interval(x, values, z, color='#2187bb', horizontal_line_width=0):\n",
    "    mean = np.mean(values)\n",
    "    confidence_interval = z * stdev(values)/sqrt(len(values)) \n",
    "    plt.errorbar(x, mean, confidence_interval, ecolor='gray', lw=2, capsize=5, capthick=2)\n",
    "    plt.plot([x], mean,'o-r')\n",
    "    return mean, confidence_interval"
   ]
  },
  {
   "cell_type": "markdown",
   "id": "2e08f525",
   "metadata": {},
   "source": [
    "### Apply the statistical methods "
   ]
  },
  {
   "cell_type": "markdown",
   "id": "6b72b949",
   "metadata": {},
   "source": [
    "#### 1.Calculate self-diffusivity over time"
   ]
  },
  {
   "cell_type": "code",
   "execution_count": 9,
   "id": "ccf7afda",
   "metadata": {},
   "outputs": [
    {
     "name": "stderr",
     "output_type": "stream",
     "text": [
      "/opt/anaconda3/envs/openmm/lib/python3.9/site-packages/scipy/stats/_stats_mstats_common.py:175: RuntimeWarning: invalid value encountered in double_scalars\n",
      "  slope = ssxym / ssxm\n",
      "/opt/anaconda3/envs/openmm/lib/python3.9/site-packages/scipy/stats/_stats_mstats_common.py:189: RuntimeWarning: invalid value encountered in sqrt\n",
      "  t = r * np.sqrt(df / ((1.0 - r + TINY)*(1.0 + r + TINY)))\n",
      "/opt/anaconda3/envs/openmm/lib/python3.9/site-packages/scipy/stats/_stats_mstats_common.py:192: RuntimeWarning: invalid value encountered in double_scalars\n",
      "  slope_stderr = np.sqrt((1 - r**2) * ssym / ssxm / df)\n"
     ]
    }
   ],
   "source": [
    "MSD = msd.EinsteinMSD(u1,'byres (smarts [OH2])', msd_type='xyz', fft=True)\n",
    "MSD.run()\n",
    "msd_ls =  MSD.results.timeseries\n",
    "nframes = MSD.n_frames\n",
    "timestep = 1 # this needs to be the actual time (ns) between frames , 10 ps = 0.01 ns = 10^(-11)s\n",
    "lagtimes = np.arange(nframes)*timestep # make the lag-time axis\n",
    "\n",
    "slope = []\n",
    "error = []\n",
    "D1 = []\n",
    "for start_time in range(nframes):\n",
    "    start_index = int(start_time/timestep)\n",
    "    end_index = start_index+5\n",
    "    linear_model = linregress(lagtimes[start_index:end_index],msd_ls[start_index:end_index])\n",
    "    slope.append(linear_model.slope)\n",
    "    error.append(linear_model.rvalue)\n",
    "    D1.append(linear_model.slope*1/(2*MSD.dim_fac))\n",
    "        \n",
    "# dim_fac is 3 as we computed a 3D msd with 'xyz'\n",
    "\n"
   ]
  },
  {
   "cell_type": "code",
   "execution_count": 10,
   "id": "baf10707",
   "metadata": {
    "scrolled": false
   },
   "outputs": [
    {
     "data": {
      "text/plain": [
       "Text(0.5, 1.0, 'H2O Diffusion Coefficient')"
      ]
     },
     "execution_count": 10,
     "metadata": {},
     "output_type": "execute_result"
    },
    {
     "data": {
      "image/png": "[encoded data removed]",
      "text/plain": [
       "<Figure size 432x288 with 1 Axes>"
      ]
     },
     "metadata": {
      "needs_background": "light"
     },
     "output_type": "display_data"
    },
    {
     "data": {
      "text/plain": [
       "<Figure size 432x288 with 0 Axes>"
      ]
     },
     "metadata": {},
     "output_type": "display_data"
    }
   ],
   "source": [
    "ax = plt.axes()\n",
    "fig = plt.figure()\n",
    "ax.plot(np.arange(len(D1[:1400])), D1[:1400], label = '1 Small Molecule HCl')\n",
    "ax.legend()\n",
    "ax.set_xlabel('lagtime (10ps)', fontsize = 12)\n",
    "ax.set_ylabel('D (10$^-5$ cm$^2$/s)', fontsize = 12)\n",
    "ax.set_title('H2O Diffusion Coefficient', fontsize = 12)"
   ]
  },
  {
   "cell_type": "markdown",
   "id": "8c54bd1c",
   "metadata": {},
   "source": [
    "#### 2. block averaging methods"
   ]
  },
  {
   "cell_type": "code",
   "execution_count": 11,
   "id": "d9153201",
   "metadata": {
    "scrolled": true
   },
   "outputs": [
    {
     "name": "stdout",
     "output_type": "stream",
     "text": [
      "1.7167923067636757\n"
     ]
    },
    {
     "data": {
      "image/png": "[encoded data removed]",
      "text/plain": [
       "<Figure size 432x288 with 1 Axes>"
      ]
     },
     "metadata": {
      "needs_background": "light"
     },
     "output_type": "display_data"
    }
   ],
   "source": [
    "block_averaging(D1[:1000],1,100,step =2)"
   ]
  },
  {
   "cell_type": "markdown",
   "id": "51a35287",
   "metadata": {},
   "source": [
    "#### 3. bootstrapping to get water diffusivity"
   ]
  },
  {
   "cell_type": "code",
   "execution_count": 12,
   "id": "7b0c31c5",
   "metadata": {},
   "outputs": [],
   "source": [
    "import pandas as pd\n",
    "MSD1 = msd.EinsteinMSD(u1,'byres (smarts [OH2])', msd_type='xyz', fft=True)\n",
    "MSD1.run()\n",
    "MSD1_df = pd.DataFrame(MSD1.results.timeseries, columns = ['MSD'])\n",
    "MSD1_df[\"Frames\"] = np.arange(u1.trajectory.n_frames)+1\n",
    "data1 = MSD1_df[:1000]"
   ]
  },
  {
   "cell_type": "code",
   "execution_count": 13,
   "id": "def1721a",
   "metadata": {},
   "outputs": [],
   "source": [
    "D1 = boot_D(data1,'Frames','MSD',100)"
   ]
  },
  {
   "cell_type": "code",
   "execution_count": 14,
   "id": "b468318b",
   "metadata": {},
   "outputs": [
    {
     "data": {
      "image/png": "[encoded data removed]",
      "text/plain": [
       "<Figure size 432x288 with 1 Axes>"
      ]
     },
     "metadata": {
      "needs_background": "light"
     },
     "output_type": "display_data"
    },
    {
     "data": {
      "text/plain": [
       "Text(0.95, 1.7161943500652275, 'mean = 1.7162\\nconfidence interval\\n= 0.00002425')"
      ]
     },
     "execution_count": 14,
     "metadata": {},
     "output_type": "execute_result"
    },
    {
     "data": {
      "image/png": "[encoded data removed]",
      "text/plain": [
       "<Figure size 432x288 with 1 Axes>"
      ]
     },
     "metadata": {
      "needs_background": "light"
     },
     "output_type": "display_data"
    }
   ],
   "source": [
    "import matplotlib.pyplot as plt\n",
    "import statistics\n",
    "from statistics import sqrt, stdev\n",
    "data = D1\n",
    "Mean = []\n",
    "Error = []\n",
    "n_sample = 1000\n",
    "for i in range(1000): # repeat 200 times bootstrapping\n",
    "    bootstrap = resample(data, replace=True, n_samples = 100)\n",
    "    # out of bag obervations\n",
    "    oob = [x for x in data if x not in bootstrap]\n",
    "    Mean.append(np.mean(bootstrap))\n",
    "    Error.append(np.sqrt(np.var(bootstrap)/(n_sample-1)))\n",
    "\n",
    "plt.hist(Mean)\n",
    "plt.show()\n",
    "\n",
    "mean1 = statistics.mean(data)\n",
    "stdev1 = statistics.stdev(data)\n",
    "z =1.96\n",
    "ci1 = z * stdev1/sqrt(n_sample)\n",
    "plt.xticks([1], ['Self-diffusivity'])\n",
    "plt.title('Confidence Interval')\n",
    "plt.errorbar(1, mean1, ci1, ecolor='gray', lw=2, capsize=5, capthick=2)\n",
    "plt.plot([1], mean1,'o-r')\n",
    "plt.text(0.95,mean1,f'mean = {mean1:.4f}\\nconfidence interval\\n= {ci1:.8f}')\n"
   ]
  },
  {
   "cell_type": "code",
   "execution_count": null,
   "id": "7df86182",
   "metadata": {},
   "outputs": [],
   "source": []
  }
 ],
 "metadata": {
  "kernelspec": {
   "display_name": "openmm",
   "language": "python",
   "name": "openmm"
  },
  "language_info": {
   "codemirror_mode": {
    "name": "ipython",
    "version": 3
   },
   "file_extension": ".py",
   "mimetype": "text/x-python",
   "name": "python",
   "nbconvert_exporter": "python",
   "pygments_lexer": "ipython3",
   "version": "3.9.13"
  }
 },
 "nbformat": 4,
 "nbformat_minor": 5
}
