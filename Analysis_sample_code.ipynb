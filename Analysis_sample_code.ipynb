{
 "cells": [
  {
   "cell_type": "code",
   "execution_count": null,
   "id": "da58d21f",
   "metadata": {},
   "outputs": [],
   "source": [
    "import MDAnalysis as mda\n",
    "from MDAnalysis import transformations\n",
    "from MDAnalysis.analysis.rdf import InterRDF, InterRDF_s\n",
    "from solvation_analysis.solution import Solution\n",
    "import pandas as pd\n",
    "import matplotlib.pyplot as plt\n",
    "import pandas as pd\n",
    "import numpy as np"
   ]
  },
  {
   "cell_type": "code",
   "execution_count": null,
   "id": "972f40b3",
   "metadata": {},
   "outputs": [],
   "source": [
    "import nglview\n",
    "\n",
    "def visualize(selection):\n",
    "    mda_view = nglview.show_mdanalysis(selection)\n",
    "    return mda_view.display()\n"
   ]
  },
  {
   "cell_type": "code",
   "execution_count": null,
   "id": "d99487f6",
   "metadata": {},
   "outputs": [],
   "source": [
    "# instantiate solution\n",
    "from solvation_analysis.solution import Solution"
   ]
  },
  {
   "cell_type": "code",
   "execution_count": null,
   "id": "09700de2",
   "metadata": {},
   "outputs": [],
   "source": [
    "u1 = mda.Universe('output1/topology.pdb',\"output1/trajectory.dcd\")\n",
    "u0 = mda.Universe('output1/topology.pdb',\"output1/trajectory_equil.dcd\")"
   ]
  },
  {
   "cell_type": "code",
   "execution_count": null,
   "id": "bfbf08d1",
   "metadata": {},
   "outputs": [],
   "source": [
    "# get box volume\n",
    "# import box size from state.txt\n",
    "volume_nm1 = pd.read_csv('output1/state.txt')[\"Box Volume (nm^3)\"].values[-1]\n",
    "# convert to A 10^-8\n",
    "volume1 = volume_nm1 * 1000\n",
    "# side of the box\n",
    "l1 = volume1**(1/3)\n",
    "# lengths *a*, *b*, *c* are in the MDAnalysis length unit (Å), and angles are in degrees.\n",
    "box1 = [l1,l1,l1,90,90,90]\n",
    "# telling trajectory box size\n",
    "set_dim1 = transformations.boxdimensions.set_dimensions(box1)\n",
    "# manually set the box size\n",
    "u1.trajectory.add_transformations(set_dim1) \n"
   ]
  },
  {
   "cell_type": "code",
   "execution_count": null,
   "id": "9176700d",
   "metadata": {},
   "outputs": [],
   "source": [
    "from solvation_analysis import selection"
   ]
  },
  {
   "cell_type": "code",
   "execution_count": null,
   "id": "4b2d33ad",
   "metadata": {},
   "outputs": [],
   "source": [
    "# these queries will not work for all circumstances, but they work here because we have only two species\n",
    "# water has no C and the trimer has C, that is what we are using to select atoms\n",
    "\n",
    "\n",
    "trimer_1 = u1.select_atoms('byres element C')\n",
    "Cl_1 = u1.select_atoms('byres element Cl')\n",
    "\n",
    "# select both h2o and h3o+\n",
    "OH_1= u1.select_atoms('not byres element C Cl').select_atoms('byres element O')\n",
    "\n",
    "h2O_1 = u1.select_atoms('resid 1:3640')\n",
    "\n",
    "h3O_1 = OH_1-h2O_1\n",
    "\n",
    "h2O_O_1 = h2O_1.select_atoms('element O')\n",
    "h2O_H_1 = h2O_1.select_atoms('element H')\n",
    "h3O_O_1 = h3O_1.select_atoms('element O')\n",
    "h3O_H_1 = h3O_1.select_atoms('element H')\n",
    "\n",
    "# C-O in ether and ester\n",
    "\n",
    "ether_O_1 = trimer_1.select_atoms('smarts COC=C').select_atoms('element O')\n",
    "ester_O_1 = trimer_1.select_atoms('smarts COCC=C').select_atoms('element O')\n",
    "\n",
    "# C=O in ketone and ester\n",
    "ketone_O_1 = trimer_1.select_atoms('smarts CC(=O)C').select_atoms('element O')\n",
    "ester_2O_1 = trimer_1.select_atoms('smarts C=O').select_atoms('element O')\\\n",
    "- ketone_O_1\n",
    "\n",
    "\n",
    "# tertiary N in the center\n",
    "N_1 = trimer_1.select_atoms('smarts [N;D4]').select_atoms('element N')\n",
    "# N in the side chains\n",
    "N3_1 = trimer_1.select_atoms('smarts [N;D3]').select_atoms('element N')\n",
    "\n",
    "\n",
    "oh_O_1 = trimer_1.select_atoms('smarts [OHX2]')\n",
    "dimethyl_C_1 = trimer_1.select_atoms('smarts [CH3]')\n"
   ]
  },
  {
   "cell_type": "code",
   "execution_count": null,
   "id": "4234cf33",
   "metadata": {
    "scrolled": true
   },
   "outputs": [],
   "source": [
    "visualize(trimer_1+h2O_1+h3O_1+Cl_1)"
   ]
  },
  {
   "cell_type": "markdown",
   "id": "745860b0",
   "metadata": {},
   "source": [
    "### If the system is well-equilibrated?"
   ]
  },
  {
   "cell_type": "markdown",
   "id": "108d62da",
   "metadata": {},
   "source": [
    "should check more observable quantities to see if the simulation reaches equilibrium"
   ]
  },
  {
   "cell_type": "code",
   "execution_count": null,
   "id": "284bc0cb",
   "metadata": {},
   "outputs": [],
   "source": [
    "df1 = pd.read_csv('output1/state.txt')\n",
    "df1.rename(columns={'#\"Step\"': 'Step'}, inplace=True)\n",
    "df1['Step'][-1:]"
   ]
  },
  {
   "cell_type": "code",
   "execution_count": null,
   "id": "4aa3ca3b",
   "metadata": {},
   "outputs": [],
   "source": [
    "# check if RDFs overlap, \n",
    "# we need to check different observable quantities to make sure the simulation is well-equilibrated\n"
   ]
  },
  {
   "cell_type": "code",
   "execution_count": null,
   "id": "55f42a23",
   "metadata": {
    "scrolled": true
   },
   "outputs": [],
   "source": [
    "rdf = InterRDF(N_1, h2O_O_1)\n",
    "rdf0_3=rdf.run(start=0,stop = 300)\n",
    "rdf3_6=rdf.run(start=300,stop = 600)\n",
    "rdf6_9=rdf.run(start=600,stop = 900)\n",
    "rdf9_12=rdf.run(start=900,stop = 1200)\n",
    "rdf12_15=rdf.run(start=1200,stop = 1488)\n",
    "\n",
    "# https://docs.mdanalysis.org/1.1.0/documentation_pages/analysis/rdf.html\n",
    "fig, ax = plt.subplots(figsize=(8,6))\n",
    "ax.plot(rdf0_3.bins,rdf0_3.rdf,\"r\",label = '0-300')\n",
    "ax.plot(rdf3_6.bins,rdf3_6.rdf,\"b\",label = '300-600')\n",
    "ax.plot(rdf6_9.bins,rdf6_9.rdf,\"g\",label = '600-900')\n",
    "ax.plot(rdf9_12.bins,rdf9_12.rdf,\"orange\",label = '900-1200')\n",
    "ax.plot(rdf12_15.bins,rdf12_15.rdf,\"y\",label = '1200-1488')\n",
    "\n",
    "ax.set_xlabel('Radial Distance (A)')\n",
    "ax.set_ylabel('Probability Density')\n",
    "ax.set_title('Tertiary amine N - H2O O RDFs Over Time')\n",
    "\n",
    "ax.legend()"
   ]
  },
  {
   "cell_type": "code",
   "execution_count": null,
   "id": "736b3260",
   "metadata": {
    "scrolled": true
   },
   "outputs": [],
   "source": [
    "rdf = InterRDF(N_1, h3O_O_1)\n",
    "rdf0_3=rdf.run(start=0,stop = 300)\n",
    "rdf3_6=rdf.run(start=300,stop = 600)\n",
    "rdf6_9=rdf.run(start=600,stop = 900)\n",
    "rdf9_12=rdf.run(start=900,stop = 1200)\n",
    "rdf12_15=rdf.run(start=1200,stop = 1488)\n",
    "\n",
    "# https://docs.mdanalysis.org/1.1.0/documentation_pages/analysis/rdf.html\n",
    "fig, ax = plt.subplots(figsize=(8,6))\n",
    "ax.plot(rdf0_3.bins,rdf0_3.rdf,\"r\",label = '0-300')\n",
    "ax.plot(rdf3_6.bins,rdf3_6.rdf,\"b\",label = '300-600')\n",
    "ax.plot(rdf6_9.bins,rdf6_9.rdf,\"g\",label = '600-900')\n",
    "ax.plot(rdf9_12.bins,rdf9_12.rdf,\"orange\",label = '900-1200')\n",
    "ax.plot(rdf12_15.bins,rdf12_15.rdf,\"y\",label = '1200-1500')\n",
    "\n",
    "ax.set_xlabel('Radial Distance (A)')\n",
    "ax.set_ylabel('Probability Density')\n",
    "ax.set_title('Tertiary amine N - H3O O RDFs Over Time')\n",
    "\n",
    "ax.legend()"
   ]
  },
  {
   "cell_type": "code",
   "execution_count": null,
   "id": "da1a0d1b",
   "metadata": {},
   "outputs": [],
   "source": [
    "rdf = InterRDF(N_1, Cl_1)\n",
    "rdf0_3=rdf.run(start=0,stop = 300)\n",
    "rdf3_6=rdf.run(start=300,stop = 600)\n",
    "rdf6_9=rdf.run(start=600,stop = 900)\n",
    "rdf9_12=rdf.run(start=900,stop = 1200)\n",
    "rdf12_15=rdf.run(start=1200,stop = 1488)\n",
    "\n",
    "# https://docs.mdanalysis.org/1.1.0/documentation_pages/analysis/rdf.html\n",
    "fig, ax = plt.subplots(figsize=(8,6))\n",
    "ax.plot(rdf0_3.bins,rdf0_3.rdf,\"r\",label = '0-300')\n",
    "ax.plot(rdf3_6.bins,rdf3_6.rdf,\"b\",label = '300-600')\n",
    "ax.plot(rdf6_9.bins,rdf6_9.rdf,\"g\",label = '600-900')\n",
    "ax.plot(rdf9_12.bins,rdf9_12.rdf,\"orange\",label = '900-1200')\n",
    "ax.plot(rdf12_15.bins,rdf12_15.rdf,\"y\",label = '1200-1500')\n",
    "\n",
    "ax.set_xlabel('Radial Distance (A)')\n",
    "ax.set_ylabel('Probability Density')\n",
    "ax.set_title('Tertiary amine N - Cl RDFs Over Time')\n",
    "\n",
    "ax.legend()"
   ]
  },
  {
   "cell_type": "markdown",
   "id": "635859f0",
   "metadata": {},
   "source": [
    "len(u1.trajectory)\n"
   ]
  },
  {
   "cell_type": "code",
   "execution_count": null,
   "id": "a0c9971d",
   "metadata": {},
   "outputs": [],
   "source": [
    "plt.subplots(2,1,figsize = (12,10))\n",
    "ax0_1 = plt.subplot(2,1,1)\n",
    "\n",
    "ax0_1.plot(df1['Step'][:2000],df1['Density (g/mL)'][:2000])\n",
    "plt.ylim([1.1,1.15])\n",
    "ax0_1.set_xlabel(\"Step\")\n",
    "ax0_1.set_ylabel(\"Density\")\n",
    "ax0_1.set_title(\"first 2 ns\")\n",
    "\n",
    "ax0_2 = plt.subplot(2,1,2)\n",
    "\n",
    "ax0_2.plot(df1['Step'],df1['Density (g/mL)'])\n",
    "plt.ylim([1.1,1.15])\n",
    "ax0_2.set_xlabel(\"Step\")\n",
    "ax0_2.set_ylabel(\"Density\")\n",
    "ax0_2.set_title(\"total time\")\n"
   ]
  },
  {
   "cell_type": "code",
   "execution_count": null,
   "id": "da287ff4",
   "metadata": {},
   "outputs": [],
   "source": [
    "# moving average\n",
    "def moving_average(a, n=5) :\n",
    "    ret = np.cumsum(a, dtype=float)\n",
    "    ret[n:] = ret[n:] - ret[:-n]\n",
    "    return ret[n - 1:] / n\n",
    "\n",
    "mva_dens = moving_average(list(df1['Density (g/mL)']))\n"
   ]
  },
  {
   "cell_type": "code",
   "execution_count": null,
   "id": "1161f63a",
   "metadata": {},
   "outputs": [],
   "source": [
    "plt.subplots(2,1,figsize = (12,10))\n",
    "ax0_1 = plt.subplot(2,1,1)\n",
    "\n",
    "ax0_1.plot(df1['Step'][:2000],mva_dens[:2000])\n",
    "plt.ylim([1.1,1.15])\n",
    "ax0_1.set_xlabel(\"Step\")\n",
    "ax0_1.set_ylabel(\"Density\")\n",
    "ax0_1.set_title(\"first 2 ns\")\n",
    "\n",
    "ax0_2 = plt.subplot(2,1,2)\n",
    "\n",
    "ax0_2.plot(df1['Step'][:-4],mva_dens)\n",
    "plt.ylim([1.1,1.15])\n",
    "ax0_2.set_xlabel(\"Step\")\n",
    "ax0_2.set_ylabel(\"Density\")\n",
    "ax0_2.set_title(\"total time\")\n"
   ]
  },
  {
   "cell_type": "code",
   "execution_count": null,
   "id": "4527a109",
   "metadata": {},
   "outputs": [],
   "source": [
    "# equilibration summary\n",
    "fig, ((ax1,ax2),(ax3,ax4)) = plt.subplots(2,2,figsize=(10,10))\n",
    "fig.suptitle(\"Equilibration Summary\",  fontsize=16)\n",
    "\n",
    "ax1.plot(df1['Step'][:5000],df1['Potential Energy (kJ/mole)'][:5000])\n",
    "ax1.set_ylabel('Potential Energy (kJ/mole)')\n",
    "\n",
    "ax2.plot(df1['Step'][:5000],df1['Temperature (K)'][:5000],'violet')\n",
    "ax2.set_ylabel('Temperature (K)')\n",
    "\n",
    "\n",
    "ax3.plot(df1['Step'][:5000],df1['Box Volume (nm^3)'][:5000],'grey')\n",
    "ax3.set_xlabel('timestep')\n",
    "ax3.set_ylabel('Box Volume (nm^3)')\n",
    "ax3.set_ylim(top = 260, bottom = 220)\n",
    "\n",
    "\n",
    "ax4.plot(df1['Step'][:5000],df1['Density (g/mL)'][:5000],'orange')\n",
    "ax4.set_xlabel('timestep')\n",
    "ax4.set_ylabel('Density (g/mL)')\n",
    "ax4.set_ylim(top = 1.150, bottom = 1.100)"
   ]
  },
  {
   "cell_type": "markdown",
   "id": "aa017896",
   "metadata": {},
   "source": [
    "## Solvation Analysis- Coordination Number"
   ]
  },
  {
   "cell_type": "markdown",
   "id": "37a48d47",
   "metadata": {},
   "source": [
    "### Tertiary amine N"
   ]
  },
  {
   "cell_type": "code",
   "execution_count": null,
   "id": "67415f89",
   "metadata": {},
   "outputs": [],
   "source": [
    "solution1_3 = Solution(N_1, {'H2O': h2O_1, 'H3O': h3O_1, 'Cl': Cl_1})"
   ]
  },
  {
   "cell_type": "code",
   "execution_count": null,
   "id": "1bddbac4",
   "metadata": {},
   "outputs": [],
   "source": [
    "print(solution1_3.radii)"
   ]
  },
  {
   "cell_type": "code",
   "execution_count": null,
   "id": "900deb1a",
   "metadata": {},
   "outputs": [],
   "source": [
    "solution1_3.run()"
   ]
  },
  {
   "cell_type": "code",
   "execution_count": null,
   "id": "c1f0d7d7",
   "metadata": {},
   "outputs": [],
   "source": [
    "solution1_3.radii['H3O']=4.3"
   ]
  },
  {
   "cell_type": "code",
   "execution_count": null,
   "id": "84027e54",
   "metadata": {},
   "outputs": [],
   "source": [
    "# check that our new radius looks good\n",
    "solution1_3.plot_solvation_radius('H2O')\n",
    "solution1_3.plot_solvation_radius('H3O')\n",
    "solution1_3.plot_solvation_radius('Cl')\n",
    "plt.show()"
   ]
  },
  {
   "cell_type": "code",
   "execution_count": null,
   "id": "42cd5b08",
   "metadata": {},
   "outputs": [],
   "source": [
    "# inspect the radii\n",
    "print(solution1_3.radii)\n",
    "solution1_3.run()"
   ]
  },
  {
   "cell_type": "code",
   "execution_count": null,
   "id": "0986786b",
   "metadata": {
    "scrolled": true
   },
   "outputs": [],
   "source": [
    "solution1_3.coordination.cn_dict"
   ]
  },
  {
   "cell_type": "code",
   "execution_count": null,
   "id": "7f19369c",
   "metadata": {},
   "outputs": [],
   "source": [
    "solution1_3.coordination.cn_by_frame"
   ]
  },
  {
   "cell_type": "code",
   "execution_count": null,
   "id": "564e8715",
   "metadata": {},
   "outputs": [],
   "source": [
    "num3 = len(N_1)/50\n",
    "cn_byframe3 = solution1_3.coordination.cn_by_frame/num3\n",
    "cn_byframe3"
   ]
  },
  {
   "cell_type": "code",
   "execution_count": null,
   "id": "081347e0",
   "metadata": {},
   "outputs": [],
   "source": [
    "# Coordination Number Over Time\n",
    "plt.figure(figsize=(10, 5))\n",
    "plt.plot(cn_byframe3.iloc[1]/num3,label='Tertiary N- H2O')\n",
    "plt.legend()\n",
    "plt.title('Coordination Number Over Time')\n",
    "plt.show()\n"
   ]
  },
  {
   "cell_type": "code",
   "execution_count": null,
   "id": "f6171184",
   "metadata": {},
   "outputs": [],
   "source": [
    "plt.figure(figsize=(10, 5))\n",
    "plt.plot(cn_byframe3.iloc[0],label='Tertiary N- Cl-')\n",
    "plt.legend()\n",
    "plt.title('Coordination Number Over Time')\n",
    "plt.show()\n"
   ]
  },
  {
   "cell_type": "code",
   "execution_count": null,
   "id": "f070afec",
   "metadata": {
    "scrolled": true
   },
   "outputs": [],
   "source": [
    "plt.figure(figsize=(10, 5))\n",
    "plt.plot(cn_byframe3.iloc[2],label='Tertiary N- H3O+')\n",
    "plt.legend()\n",
    "plt.title('Coordination Number Over Time')\n",
    "plt.show()"
   ]
  },
  {
   "cell_type": "code",
   "execution_count": null,
   "id": "c980d967",
   "metadata": {},
   "outputs": [],
   "source": [
    "print(\"Cl-:\",sum(cn_byframe3.iloc[0]))\n",
    "print(\"H2O:\", sum(cn_byframe3.iloc[1]))\n",
    "print(\"H3O+:\",sum(cn_byframe3.iloc[2]))"
   ]
  },
  {
   "cell_type": "code",
   "execution_count": null,
   "id": "ea810c3b",
   "metadata": {},
   "outputs": [],
   "source": [
    "cn1_3 = {}\n",
    "for i in solution1_3.coordination.cn_dict:\n",
    "    cn1_3[i]= solution1_3.coordination.cn_dict[i]/num3\n",
    "cn1_3"
   ]
  },
  {
   "cell_type": "markdown",
   "id": "0bd17bbb",
   "metadata": {},
   "source": [
    "\n"
   ]
  },
  {
   "cell_type": "markdown",
   "id": "a5b979b5",
   "metadata": {},
   "source": [
    "### Secondary Amine N"
   ]
  },
  {
   "cell_type": "code",
   "execution_count": null,
   "id": "cf3e0c6d",
   "metadata": {},
   "outputs": [],
   "source": [
    "solution1_6 = Solution(N3_1, {'H2O': h2O_1, 'H3O': h3O_1, 'Cl': Cl_1})"
   ]
  },
  {
   "cell_type": "code",
   "execution_count": null,
   "id": "3c8bf547",
   "metadata": {},
   "outputs": [],
   "source": [
    "solution1_6.run()"
   ]
  },
  {
   "cell_type": "code",
   "execution_count": null,
   "id": "800ffcc7",
   "metadata": {},
   "outputs": [],
   "source": [
    "solution1_6.plot_solvation_radius('H2O')\n",
    "solution1_6.plot_solvation_radius('H3O')\n",
    "solution1_6.plot_solvation_radius('Cl')\n",
    "plt.show()"
   ]
  },
  {
   "cell_type": "code",
   "execution_count": null,
   "id": "0238de47",
   "metadata": {},
   "outputs": [],
   "source": [
    "solution1_6.radii['H3O']= 3.7\n",
    "solution1_6.radii['Cl']= 4\n",
    "solution1_6.plot_solvation_radius('H2O')\n",
    "solution1_6.plot_solvation_radius('H3O')\n",
    "solution1_6.plot_solvation_radius('Cl')\n",
    "plt.show()"
   ]
  },
  {
   "cell_type": "code",
   "execution_count": null,
   "id": "76fcd667",
   "metadata": {},
   "outputs": [],
   "source": [
    "solution1_6.run()"
   ]
  },
  {
   "cell_type": "code",
   "execution_count": null,
   "id": "58dffd61",
   "metadata": {},
   "outputs": [],
   "source": [
    "solution1_6.coordination.cn_dict"
   ]
  },
  {
   "cell_type": "code",
   "execution_count": null,
   "id": "f41912f3",
   "metadata": {},
   "outputs": [],
   "source": [
    "num6 = len(N3_1)/50\n",
    "cn1_6 = {}\n",
    "for i in solution1_6.coordination.cn_dict:\n",
    "    cn1_6[i]= solution1_6.coordination.cn_dict[i]/num6\n",
    "cn1_6"
   ]
  },
  {
   "cell_type": "markdown",
   "id": "2eca823e",
   "metadata": {},
   "source": [
    "### summary"
   ]
  },
  {
   "cell_type": "code",
   "execution_count": null,
   "id": "e22bb85b",
   "metadata": {},
   "outputs": [],
   "source": [
    "cn = {\"N_center\": cn1_3,\n",
    "      \"N_side\": cn1_6}\n",
    "import pandas as pd\n",
    "CN = pd.DataFrame(cn)\n",
    "CN"
   ]
  },
  {
   "cell_type": "markdown",
   "id": "1b4e15dc",
   "metadata": {},
   "source": [
    "## Visualization"
   ]
  },
  {
   "cell_type": "code",
   "execution_count": null,
   "id": "be4120ed",
   "metadata": {
    "scrolled": false
   },
   "outputs": [],
   "source": [
    "visualize(h2O_1+h3O_1 + trimer_1+ Cl_1)"
   ]
  },
  {
   "cell_type": "code",
   "execution_count": null,
   "id": "21b2259e",
   "metadata": {},
   "outputs": [],
   "source": [
    "visualize(trimer_1+ Cl_1)"
   ]
  },
  {
   "cell_type": "code",
   "execution_count": null,
   "id": "0395fd6c",
   "metadata": {},
   "outputs": [],
   "source": [
    "rdf1_3 = InterRDF(N_1, h2O_O_1)\n",
    "rdf1_6 = InterRDF(N3_1, h2O_O_1)\n",
    "rdf1_3 = InterRDF(N_1, h2O_O_1)\n",
    "rdf1_6 = InterRDF(N3_1, h2O_O_1)\n",
    "rdf3_3 = InterRDF(N_1, Cl_1)\n",
    "rdf3_6 = InterRDF(N3_1, Cl_1)\n",
    "\n",
    "rdf1_3.run()\n",
    "rdf1_6.run()\n",
    "rdf2_3.run()\n",
    "rdf2_6.run()\n",
    "rdf3_3.run()\n",
    "rdf3_6.run()"
   ]
  },
  {
   "cell_type": "code",
   "execution_count": null,
   "id": "17799bc5",
   "metadata": {},
   "outputs": [],
   "source": [
    "\n",
    "fig1,(ax1, ax2, ax3) = plt.subplots(1,3,sharey = 'row', figsize =(18,5))\n",
    "fig1.suptitle('Comparing Secondary and Tertiary Amine N', fontsize = 15)\n",
    "\n",
    "ax1.plot(rdf1_6.bins, rdf1_6.rdf, \"r-\",label = \"Secondary amine N\")\n",
    "ax1.plot(rdf1_3.bins, rdf1_3.rdf, \"b-\",label = \"Tertiary amine N\")\n",
    "\n",
    "ax1.set_xlabel(\"Radial Distance (A)\", fontsize = 13)\n",
    "ax1.set_ylabel(\"Probability Density of H2O\", fontsize = 13)\n",
    "ax1.legend( fontsize = 13)\n",
    "\n",
    "\n",
    "ax2.plot(rdf2_6.bins, rdf2_6.rdf, \"r-\",label = \"Secondary amine N\")\n",
    "ax2.plot(rdf2_3.bins, rdf2_3.rdf, \"b-\",label = \"Tertiary amine N\")\n",
    "\n",
    "ax2.set_xlabel(\"Radial Distance (A)\", fontsize = 13)\n",
    "ax2.set_ylabel(\"Probability Density of H3O+\", fontsize = 13)\n",
    "ax2.legend(fontsize = 13)\n",
    "\n",
    "\n",
    "ax3.plot(rdf3_6.bins, rdf3_6.rdf, \"r-\",label = \"Secondary amine N\")\n",
    "ax3.plot(rdf3_3.bins, rdf3_3.rdf, \"b-\",label = \"Tertiary amine N\")\n",
    "\n",
    "ax3.set_xlabel(\"Radial Distance (A)\", fontsize = 13)\n",
    "ax3.set_ylabel(\"Probability Density of Cl-\", fontsize = 13)\n",
    "ax3.legend(fontsize = 13)\n",
    "\n"
   ]
  },
  {
   "cell_type": "code",
   "execution_count": null,
   "id": "a22fa465",
   "metadata": {},
   "outputs": [],
   "source": [
    "fig2, ((ax4,ax5)) = plt.subplots(1,2,sharex='col', sharey='row', figsize=(12,5))\n",
    "\n",
    "ax4.plot(rdf1_3.bins, rdf1_3.rdf, \"r-\",label = \"H2O\")\n",
    "ax4.plot(rdf2_3.bins, rdf2_3.rdf, \"b-\",label = \"H3O+\")\n",
    "ax4.plot(rdf3_3.bins, rdf3_3.rdf, \"g-\",label = \"Cl-\")\n",
    "\n",
    "\n",
    "ax4.set_xlabel(\"Radial Distance (A)\",fontsize = 13)\n",
    "ax4.set_ylabel(\"Probability Density\",fontsize = 13)\n",
    "ax4.set_title('Tertiary amine N RDFs',fontsize = 13)\n",
    "ax4.legend(fontsize = 13)\n",
    "\n",
    "\n",
    "\n",
    "ax5.plot(rdf1_6.bins, rdf1_6.rdf, \"r-\",label = \"H2O\")\n",
    "ax5.plot(rdf2_6.bins, rdf2_6.rdf, \"b-\",label = \"H3O+\")\n",
    "ax5.plot(rdf3_6.bins, rdf3_6.rdf, \"g-\",label = \"Cl-\")\n",
    "\n",
    "\n",
    "ax5.set_xlabel(\"Radial Distance (A)\",fontsize = 13)\n",
    "ax5.set_ylabel(\"Probability Density\",fontsize = 13)\n",
    "ax5.set_title('Secondary amine N RDFs',fontsize = 13)\n",
    "ax5.legend(fontsize = 13)"
   ]
  },
  {
   "cell_type": "code",
   "execution_count": null,
   "id": "600d3173",
   "metadata": {
    "scrolled": false
   },
   "outputs": [],
   "source": [
    "# compare RDFs (shared x and y)\n",
    "\n",
    "plt.subplots(1, 3, sharex='col', sharey='row',figsize = (35,10))\n",
    "\n",
    "# fig1\n",
    "ax1 = plt.subplot(1,3,1)\n",
    "ax1.plot(rdf1_6.bins, rdf1_6.rdf, \"bx-\",label = \"N_side\")\n",
    "ax1.plot(rdf1_3.bins, rdf1_3.rdf, \"y-\",label = \"N_center\")\n",
    "ax1.set_xlabel(\"Radial Distance (A)\")\n",
    "ax1.set_ylabel(\"Probability Density of H2O\")\n",
    "ax1.legend()\n",
    "\n",
    "# fig2\n",
    "ax2 = plt.subplot(1,3,2)\n",
    "ax2.plot(rdf2_6.bins, rdf2_6.rdf, \"bx-\",label = \"N_side\")\n",
    "ax2.plot(rdf2_3.bins, rdf2_3.rdf, \"y-\",label = \"N_center\")\n",
    "ax2.set_xlabel(\"Radial Distance (A)\")\n",
    "ax2.set_ylabel(\"Probability Density of H3O+\")\n",
    "ax2.legend()\n",
    "\n",
    "# fig3\n",
    "ax3 = plt.subplot(1,3,3)\n",
    "ax3.plot(rdf3_6.bins, rdf3_6.rdf, \"bx-\",label = \"N_side\")\n",
    "ax3.plot(rdf3_3.bins, rdf3_3.rdf, \"y-\",label = \"N_center\")\n",
    "ax3.set_xlabel(\"Radial Distance (A)\")\n",
    "ax3.set_ylabel(\"Probability Density of Cl-\")\n",
    "ax3.legend()\n"
   ]
  },
  {
   "cell_type": "markdown",
   "id": "8a563956",
   "metadata": {},
   "source": [
    "## Find Minima on the RDF"
   ]
  },
  {
   "cell_type": "code",
   "execution_count": null,
   "id": "79af94d3",
   "metadata": {},
   "outputs": [],
   "source": [
    "from solvation_analysis.rdf_parser import plot_interpolation_fit, identify_solvation_cutoff\n",
    "from scipy.signal import find_peaks\n"
   ]
  },
  {
   "cell_type": "code",
   "execution_count": null,
   "id": "8ba49218",
   "metadata": {},
   "outputs": [],
   "source": [
    "cutoff1_3 = identify_solvation_cutoff(rdf1_3.bins, rdf1_3.rdf)"
   ]
  },
  {
   "cell_type": "code",
   "execution_count": null,
   "id": "5b70676e",
   "metadata": {},
   "outputs": [],
   "source": [
    "fig, ax = plot_interpolation_fit(rdf1_3.bins, rdf1_3.rdf)\n",
    "plt.show()"
   ]
  },
  {
   "cell_type": "code",
   "execution_count": null,
   "id": "6d510c3c",
   "metadata": {},
   "outputs": [],
   "source": []
  }
 ],
 "metadata": {
  "kernelspec": {
   "display_name": "myenv",
   "language": "python",
   "name": "myenv"
  },
  "language_info": {
   "codemirror_mode": {
    "name": "ipython",
    "version": 3
   },
   "file_extension": ".py",
   "mimetype": "text/x-python",
   "name": "python",
   "nbconvert_exporter": "python",
   "pygments_lexer": "ipython3",
   "version": "3.9.9"
  }
 },
 "nbformat": 4,
 "nbformat_minor": 5
}
